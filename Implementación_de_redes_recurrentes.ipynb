{
  "nbformat": 4,
  "nbformat_minor": 0,
  "metadata": {
    "colab": {
      "name": "Implementación de redes recurrentes.ipynb",
      "provenance": [],
      "authorship_tag": "ABX9TyP0zsv3e0QrdOhENuSsdCmV",
      "include_colab_link": true
    },
    "kernelspec": {
      "name": "python3",
      "display_name": "Python 3"
    }
  },
  "cells": [
    {
      "cell_type": "markdown",
      "metadata": {
        "id": "view-in-github",
        "colab_type": "text"
      },
      "source": [
        "<a href=\"https://colab.research.google.com/github/2017030703/RedesRecurrentes/blob/master/Implementaci%C3%B3n_de_redes_recurrentes.ipynb\" target=\"_parent\"><img src=\"https://colab.research.google.com/assets/colab-badge.svg\" alt=\"Open In Colab\"/></a>"
      ]
    },
    {
      "cell_type": "code",
      "metadata": {
        "id": "XsoBZElVblkl",
        "colab_type": "code",
        "colab": {}
      },
      "source": [
        "import numpy as np              \n",
        "np.random.seed(5)     #Ajustamos la semilla del generador aleatorio para garantizar la reprodicibilidad del entrenamiento\n",
        "\n",
        "from keras.layers import Input, Dense, SimpleRNN #SimpleRNN nos permite crear una celda recurrente \n",
        "from keras.models import Model        # Nos permitirán crear y entrenar el modelo\n",
        "from keras.optimizers import SGD      # Nos permitirán crear y entrenar el modelo\n",
        "from keras.utils import to_categorical  #Para poder presentar la entrada y salida\n",
        "from keras import backend as K          #Para poder presentar la entrada y salida \n",
        "\n",
        "\n",
        "\n"
      ],
      "execution_count": null,
      "outputs": []
    }
  ]
}